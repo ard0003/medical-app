{
 "cells": [
  {
   "cell_type": "code",
   "execution_count": null,
   "id": "dd204c0c-01b9-4a62-9c37-39ed797d582e",
   "metadata": {},
   "outputs": [],
   "source": [
    "\n"
   ]
  },
  {
   "cell_type": "code",
   "execution_count": 1,
   "id": "d09c6d1f-ccbe-4480-b966-50863fa07ab6",
   "metadata": {},
   "outputs": [
    {
     "ename": "ModuleNotFoundError",
     "evalue": "No module named 'sklearn'",
     "output_type": "error",
     "traceback": [
      "\u001b[1;31m---------------------------------------------------------------------------\u001b[0m",
      "\u001b[1;31mModuleNotFoundError\u001b[0m                       Traceback (most recent call last)",
      "Cell \u001b[1;32mIn[1], line 3\u001b[0m\n\u001b[0;32m      1\u001b[0m \u001b[38;5;28;01mimport\u001b[39;00m \u001b[38;5;21;01mpandas\u001b[39;00m \u001b[38;5;28;01mas\u001b[39;00m \u001b[38;5;21;01mpd\u001b[39;00m\n\u001b[0;32m      2\u001b[0m \u001b[38;5;28;01mimport\u001b[39;00m \u001b[38;5;21;01mnumpy\u001b[39;00m \u001b[38;5;28;01mas\u001b[39;00m \u001b[38;5;21;01mnp\u001b[39;00m\n\u001b[1;32m----> 3\u001b[0m \u001b[38;5;28;01mfrom\u001b[39;00m \u001b[38;5;21;01msklearn\u001b[39;00m\u001b[38;5;21;01m.\u001b[39;00m\u001b[38;5;21;01mmodel_selection\u001b[39;00m \u001b[38;5;28;01mimport\u001b[39;00m train_test_split\n\u001b[0;32m      4\u001b[0m \u001b[38;5;28;01mfrom\u001b[39;00m \u001b[38;5;21;01msklearn\u001b[39;00m\u001b[38;5;21;01m.\u001b[39;00m\u001b[38;5;21;01mpreprocessing\u001b[39;00m \u001b[38;5;28;01mimport\u001b[39;00m LabelEncoder, MultiLabelBinarizer\n\u001b[0;32m      5\u001b[0m \u001b[38;5;28;01mfrom\u001b[39;00m \u001b[38;5;21;01mtensorflow\u001b[39;00m\u001b[38;5;21;01m.\u001b[39;00m\u001b[38;5;21;01mkeras\u001b[39;00m\u001b[38;5;21;01m.\u001b[39;00m\u001b[38;5;21;01mmodels\u001b[39;00m \u001b[38;5;28;01mimport\u001b[39;00m Sequential\n",
      "\u001b[1;31mModuleNotFoundError\u001b[0m: No module named 'sklearn'"
     ]
    }
   ],
   "source": [
    "import pandas as pd\n",
    "import numpy as np\n",
    "from sklearn.model_selection import train_test_split\n",
    "from sklearn.preprocessing import LabelEncoder, MultiLabelBinarizer\n",
    "from tensorflow.keras.models import Sequential\n",
    "from tensorflow.keras.layers import Dense, Dropout\n",
    "from tensorflow.keras.optimizers import Adam\n",
    "\n",
    "# Load datasets\n",
    "try:\n",
    "    symptom_severity = pd.read_csv('Symptom-severity.csv')\n",
    "    symptoms_df = pd.read_csv('symtoms_df (1).csv')\n",
    "    doctor_df=pd.read_csv('doctor.csv')\n",
    "except Exception as e:\n",
    "    print(\"Error loading datasets:\", e)\n",
    "# Clean and preprocess data\n",
    "symptom_severity['Symptom'] = symptom_severity['Symptom'].str.strip().str.lower()\n",
    "symptoms_df.columns = symptoms_df.columns.str.strip().str.lower()\n",
    "    "
   ]
  },
  {
   "cell_type": "code",
   "execution_count": null,
   "id": "83db133a-185c-48ad-be71-2c90499471e5",
   "metadata": {},
   "outputs": [
    {
     "name": "stdout",
     "output_type": "stream",
     "text": [
      "Symptom Severity Columns: Index(['Symptom', 'weight'], dtype='object')\n",
      "Symptoms DF Columns: Index(['unnamed: 0', 'disease', 'symptom_1', 'symptom_2', 'symptom_3',\n",
      "       'symptom_4'],\n",
      "      dtype='object')\n",
      "Specialist DF Columns: Index(['Disease', 'Specialty'], dtype='object')\n"
     ]
    }
   ],
   "source": [
    "# Confirm if columns have been properly loaded and aligned\n",
    "print(\"Symptom Severity Columns:\", symptom_severity.columns)\n",
    "print(\"Symptoms DF Columns:\", symptoms_df.columns)\n",
    "print(\"Specialist DF Columns:\", doctor_df.columns)"
   ]
  },
  {
   "cell_type": "code",
   "execution_count": null,
   "id": "b1a6bb59-1096-42e9-9710-7588ccf5b945",
   "metadata": {},
   "outputs": [
    {
     "name": "stdout",
     "output_type": "stream",
     "text": [
      "Missing symptoms in symptom_severity dataset: {'dischromic _patches', 'spotting_ urination', 'foul_smell_of urine', nan}\n",
      "Please update the symptom list in symptom_severity.csv to include missing symptoms.\n"
     ]
    }
   ],
   "source": [
    "# Standardize symptom formatting in symptom_severity\n",
    "symptom_severity['Symptom'] = symptom_severity['Symptom'].str.strip().str.lower()\n",
    "\n",
    "# Standardize symptom formatting in symptoms_df and combine symptom columns\n",
    "symptoms_df['symptom_1'] = symptoms_df['symptom_1'].str.strip().str.lower()\n",
    "symptoms_df['symptom_2'] = symptoms_df['symptom_2'].str.strip().str.lower()\n",
    "symptoms_df['symptom_3'] = symptoms_df['symptom_3'].str.strip().str.lower()\n",
    "symptoms_df['symptom_4'] = symptoms_df['symptom_4'].str.strip().str.lower()\n",
    "\n",
    "# Combine symptom columns into a single list for each row\n",
    "symptoms_df['combined_symptoms'] = symptoms_df[['symptom_1', 'symptom_2', 'symptom_3','symptom_4']].values.tolist()\n",
    "\n",
    "# Create the symptom list and encode using MultiLabelBinarizer\n",
    "symptom_list = symptom_severity['Symptom'].unique()\n",
    "mlb = MultiLabelBinarizer(classes=symptom_list)\n",
    "\n",
    "# Check if all symptoms in symptoms_df are in symptom_list\n",
    "all_symptoms_in_df = set(sum(symptoms_df['combined_symptoms'], []))  # Flatten the list of lists\n",
    "missing_symptoms = all_symptoms_in_df - set(symptom_list)\n",
    "\n",
    "if missing_symptoms:\n",
    "    print(\"Missing symptoms in symptom_severity dataset:\", missing_symptoms)\n",
    "else:\n",
    "    print(\"No missing symptoms, proceeding with encoding.\")\n",
    "\n",
    "# Encoding with MultiLabelBinarizer if there are no mismatches\n",
    "if not missing_symptoms:\n",
    "    symptoms_encoded = mlb.fit_transform(symptoms_df['combined_symptoms'])\n",
    "    print(\"Symptoms successfully encoded.\")\n",
    "else:\n",
    "    print(\"Please update the symptom list in symptom_severity.csv to include missing symptoms.\")"
   ]
  },
  {
   "cell_type": "code",
   "execution_count": null,
   "id": "07136264-926a-4184-b852-b397bdbe59ca",
   "metadata": {},
   "outputs": [
    {
     "name": "stdout",
     "output_type": "stream",
     "text": [
      "Symptoms successfully encoded, with missing symptoms ignored.\n"
     ]
    }
   ],
   "source": [
    "# Filter out symptoms not in symptom_severity list\n",
    "symptoms_df['filtered_symptoms'] = symptoms_df['combined_symptoms'].apply(\n",
    "    lambda x: [symptom for symptom in x if symptom in symptom_list]\n",
    ")\n",
    "\n",
    "# Encode with MultiLabelBinarizer using only the filtered symptoms\n",
    "symptoms_encoded = mlb.fit_transform(symptoms_df['filtered_symptoms'])\n",
    "print(\"Symptoms successfully encoded, with missing symptoms ignored.\")"
   ]
  },
  {
   "cell_type": "code",
   "execution_count": null,
   "id": "2c8fc00a-40eb-40e3-9fe1-b118fc2e9421",
   "metadata": {},
   "outputs": [],
   "source": [
    "# Encode disease labels\n",
    "label_encoder = LabelEncoder()\n",
    "try:\n",
    "    disease_labels = label_encoder.fit_transform(symptoms_df['disease'])\n",
    "except KeyError as e:\n",
    "    print(\"Error encoding disease labels:\", e)\n",
    "    raise e"
   ]
  },
  {
   "cell_type": "code",
   "execution_count": null,
   "id": "56caeb80-4a61-4391-9b23-035d23cad893",
   "metadata": {},
   "outputs": [
    {
     "name": "stderr",
     "output_type": "stream",
     "text": [
      "C:\\Users\\RUCHIKA\\anaconda3\\Lib\\site-packages\\keras\\src\\layers\\core\\dense.py:87: UserWarning: Do not pass an `input_shape`/`input_dim` argument to a layer. When using Sequential models, prefer using an `Input(shape)` object as the first layer in the model instead.\n",
      "  super().__init__(activity_regularizer=activity_regularizer, **kwargs)\n"
     ]
    },
    {
     "data": {
      "text/html": [
       "<pre style=\"white-space:pre;overflow-x:auto;line-height:normal;font-family:Menlo,'DejaVu Sans Mono',consolas,'Courier New',monospace\"><span style=\"font-weight: bold\">Model: \"sequential\"</span>\n",
       "</pre>\n"
      ],
      "text/plain": [
       "\u001b[1mModel: \"sequential\"\u001b[0m\n"
      ]
     },
     "metadata": {},
     "output_type": "display_data"
    },
    {
     "data": {
      "text/html": [
       "<pre style=\"white-space:pre;overflow-x:auto;line-height:normal;font-family:Menlo,'DejaVu Sans Mono',consolas,'Courier New',monospace\">┏━━━━━━━━━━━━━━━━━━━━━━━━━━━━━━━━━━━━━━┳━━━━━━━━━━━━━━━━━━━━━━━━━━━━━┳━━━━━━━━━━━━━━━━━┓\n",
       "┃<span style=\"font-weight: bold\"> Layer (type)                         </span>┃<span style=\"font-weight: bold\"> Output Shape                </span>┃<span style=\"font-weight: bold\">         Param # </span>┃\n",
       "┡━━━━━━━━━━━━━━━━━━━━━━━━━━━━━━━━━━━━━━╇━━━━━━━━━━━━━━━━━━━━━━━━━━━━━╇━━━━━━━━━━━━━━━━━┩\n",
       "│ dense (<span style=\"color: #0087ff; text-decoration-color: #0087ff\">Dense</span>)                        │ (<span style=\"color: #00d7ff; text-decoration-color: #00d7ff\">None</span>, <span style=\"color: #00af00; text-decoration-color: #00af00\">128</span>)                 │          <span style=\"color: #00af00; text-decoration-color: #00af00\">17,024</span> │\n",
       "├──────────────────────────────────────┼─────────────────────────────┼─────────────────┤\n",
       "│ dropout (<span style=\"color: #0087ff; text-decoration-color: #0087ff\">Dropout</span>)                    │ (<span style=\"color: #00d7ff; text-decoration-color: #00d7ff\">None</span>, <span style=\"color: #00af00; text-decoration-color: #00af00\">128</span>)                 │               <span style=\"color: #00af00; text-decoration-color: #00af00\">0</span> │\n",
       "├──────────────────────────────────────┼─────────────────────────────┼─────────────────┤\n",
       "│ dense_1 (<span style=\"color: #0087ff; text-decoration-color: #0087ff\">Dense</span>)                      │ (<span style=\"color: #00d7ff; text-decoration-color: #00d7ff\">None</span>, <span style=\"color: #00af00; text-decoration-color: #00af00\">64</span>)                  │           <span style=\"color: #00af00; text-decoration-color: #00af00\">8,256</span> │\n",
       "├──────────────────────────────────────┼─────────────────────────────┼─────────────────┤\n",
       "│ dropout_1 (<span style=\"color: #0087ff; text-decoration-color: #0087ff\">Dropout</span>)                  │ (<span style=\"color: #00d7ff; text-decoration-color: #00d7ff\">None</span>, <span style=\"color: #00af00; text-decoration-color: #00af00\">64</span>)                  │               <span style=\"color: #00af00; text-decoration-color: #00af00\">0</span> │\n",
       "├──────────────────────────────────────┼─────────────────────────────┼─────────────────┤\n",
       "│ dense_2 (<span style=\"color: #0087ff; text-decoration-color: #0087ff\">Dense</span>)                      │ (<span style=\"color: #00d7ff; text-decoration-color: #00d7ff\">None</span>, <span style=\"color: #00af00; text-decoration-color: #00af00\">32</span>)                  │           <span style=\"color: #00af00; text-decoration-color: #00af00\">2,080</span> │\n",
       "├──────────────────────────────────────┼─────────────────────────────┼─────────────────┤\n",
       "│ dense_3 (<span style=\"color: #0087ff; text-decoration-color: #0087ff\">Dense</span>)                      │ (<span style=\"color: #00d7ff; text-decoration-color: #00d7ff\">None</span>, <span style=\"color: #00af00; text-decoration-color: #00af00\">41</span>)                  │           <span style=\"color: #00af00; text-decoration-color: #00af00\">1,353</span> │\n",
       "└──────────────────────────────────────┴─────────────────────────────┴─────────────────┘\n",
       "</pre>\n"
      ],
      "text/plain": [
       "┏━━━━━━━━━━━━━━━━━━━━━━━━━━━━━━━━━━━━━━┳━━━━━━━━━━━━━━━━━━━━━━━━━━━━━┳━━━━━━━━━━━━━━━━━┓\n",
       "┃\u001b[1m \u001b[0m\u001b[1mLayer (type)                        \u001b[0m\u001b[1m \u001b[0m┃\u001b[1m \u001b[0m\u001b[1mOutput Shape               \u001b[0m\u001b[1m \u001b[0m┃\u001b[1m \u001b[0m\u001b[1m        Param #\u001b[0m\u001b[1m \u001b[0m┃\n",
       "┡━━━━━━━━━━━━━━━━━━━━━━━━━━━━━━━━━━━━━━╇━━━━━━━━━━━━━━━━━━━━━━━━━━━━━╇━━━━━━━━━━━━━━━━━┩\n",
       "│ dense (\u001b[38;5;33mDense\u001b[0m)                        │ (\u001b[38;5;45mNone\u001b[0m, \u001b[38;5;34m128\u001b[0m)                 │          \u001b[38;5;34m17,024\u001b[0m │\n",
       "├──────────────────────────────────────┼─────────────────────────────┼─────────────────┤\n",
       "│ dropout (\u001b[38;5;33mDropout\u001b[0m)                    │ (\u001b[38;5;45mNone\u001b[0m, \u001b[38;5;34m128\u001b[0m)                 │               \u001b[38;5;34m0\u001b[0m │\n",
       "├──────────────────────────────────────┼─────────────────────────────┼─────────────────┤\n",
       "│ dense_1 (\u001b[38;5;33mDense\u001b[0m)                      │ (\u001b[38;5;45mNone\u001b[0m, \u001b[38;5;34m64\u001b[0m)                  │           \u001b[38;5;34m8,256\u001b[0m │\n",
       "├──────────────────────────────────────┼─────────────────────────────┼─────────────────┤\n",
       "│ dropout_1 (\u001b[38;5;33mDropout\u001b[0m)                  │ (\u001b[38;5;45mNone\u001b[0m, \u001b[38;5;34m64\u001b[0m)                  │               \u001b[38;5;34m0\u001b[0m │\n",
       "├──────────────────────────────────────┼─────────────────────────────┼─────────────────┤\n",
       "│ dense_2 (\u001b[38;5;33mDense\u001b[0m)                      │ (\u001b[38;5;45mNone\u001b[0m, \u001b[38;5;34m32\u001b[0m)                  │           \u001b[38;5;34m2,080\u001b[0m │\n",
       "├──────────────────────────────────────┼─────────────────────────────┼─────────────────┤\n",
       "│ dense_3 (\u001b[38;5;33mDense\u001b[0m)                      │ (\u001b[38;5;45mNone\u001b[0m, \u001b[38;5;34m41\u001b[0m)                  │           \u001b[38;5;34m1,353\u001b[0m │\n",
       "└──────────────────────────────────────┴─────────────────────────────┴─────────────────┘\n"
      ]
     },
     "metadata": {},
     "output_type": "display_data"
    },
    {
     "data": {
      "text/html": [
       "<pre style=\"white-space:pre;overflow-x:auto;line-height:normal;font-family:Menlo,'DejaVu Sans Mono',consolas,'Courier New',monospace\"><span style=\"font-weight: bold\"> Total params: </span><span style=\"color: #00af00; text-decoration-color: #00af00\">28,713</span> (112.16 KB)\n",
       "</pre>\n"
      ],
      "text/plain": [
       "\u001b[1m Total params: \u001b[0m\u001b[38;5;34m28,713\u001b[0m (112.16 KB)\n"
      ]
     },
     "metadata": {},
     "output_type": "display_data"
    },
    {
     "data": {
      "text/html": [
       "<pre style=\"white-space:pre;overflow-x:auto;line-height:normal;font-family:Menlo,'DejaVu Sans Mono',consolas,'Courier New',monospace\"><span style=\"font-weight: bold\"> Trainable params: </span><span style=\"color: #00af00; text-decoration-color: #00af00\">28,713</span> (112.16 KB)\n",
       "</pre>\n"
      ],
      "text/plain": [
       "\u001b[1m Trainable params: \u001b[0m\u001b[38;5;34m28,713\u001b[0m (112.16 KB)\n"
      ]
     },
     "metadata": {},
     "output_type": "display_data"
    },
    {
     "data": {
      "text/html": [
       "<pre style=\"white-space:pre;overflow-x:auto;line-height:normal;font-family:Menlo,'DejaVu Sans Mono',consolas,'Courier New',monospace\"><span style=\"font-weight: bold\"> Non-trainable params: </span><span style=\"color: #00af00; text-decoration-color: #00af00\">0</span> (0.00 B)\n",
       "</pre>\n"
      ],
      "text/plain": [
       "\u001b[1m Non-trainable params: \u001b[0m\u001b[38;5;34m0\u001b[0m (0.00 B)\n"
      ]
     },
     "metadata": {},
     "output_type": "display_data"
    }
   ],
   "source": [
    "# Train-test split\n",
    "X_train, X_test, y_train, y_test = train_test_split(symptoms_encoded, disease_labels, test_size=0.2, random_state=42)\n",
    "\n",
    "# Build the neural network model\n",
    "model = Sequential([\n",
    "    Dense(128, input_shape=(X_train.shape[1],), activation='relu'),\n",
    "    Dropout(0.2),\n",
    "    Dense(64, activation='relu'),\n",
    "    Dropout(0.2),\n",
    "    Dense(32, activation='relu'),\n",
    "    Dense(len(label_encoder.classes_), activation='softmax')\n",
    "])\n",
    "\n",
    "model.compile(optimizer=Adam(), loss='sparse_categorical_crossentropy', metrics=['accuracy'])\n",
    "model.summary()"
   ]
  },
  {
   "cell_type": "code",
   "execution_count": null,
   "id": "51569e59-7353-44dc-8939-bb9b3d109f60",
   "metadata": {},
   "outputs": [
    {
     "name": "stdout",
     "output_type": "stream",
     "text": [
      "Epoch 1/50\n",
      "\u001b[1m246/246\u001b[0m \u001b[32m━━━━━━━━━━━━━━━━━━━━\u001b[0m\u001b[37m\u001b[0m \u001b[1m6s\u001b[0m 5ms/step - accuracy: 0.3004 - loss: 3.0663 - val_accuracy: 0.9197 - val_loss: 0.2572\n",
      "Epoch 2/50\n",
      "\u001b[1m246/246\u001b[0m \u001b[32m━━━━━━━━━━━━━━━━━━━━\u001b[0m\u001b[37m\u001b[0m \u001b[1m1s\u001b[0m 3ms/step - accuracy: 0.9514 - loss: 0.2601 - val_accuracy: 0.9858 - val_loss: 0.0684\n",
      "Epoch 3/50\n",
      "\u001b[1m246/246\u001b[0m \u001b[32m━━━━━━━━━━━━━━━━━━━━\u001b[0m\u001b[37m\u001b[0m \u001b[1m1s\u001b[0m 4ms/step - accuracy: 0.9761 - loss: 0.1132 - val_accuracy: 0.9949 - val_loss: 0.0409\n",
      "Epoch 4/50\n",
      "\u001b[1m246/246\u001b[0m \u001b[32m━━━━━━━━━━━━━━━━━━━━\u001b[0m\u001b[37m\u001b[0m \u001b[1m2s\u001b[0m 7ms/step - accuracy: 0.9860 - loss: 0.0777 - val_accuracy: 0.9949 - val_loss: 0.0347\n",
      "Epoch 5/50\n",
      "\u001b[1m246/246\u001b[0m \u001b[32m━━━━━━━━━━━━━━━━━━━━\u001b[0m\u001b[37m\u001b[0m \u001b[1m2s\u001b[0m 4ms/step - accuracy: 0.9831 - loss: 0.0725 - val_accuracy: 0.9949 - val_loss: 0.0282\n",
      "Epoch 6/50\n",
      "\u001b[1m246/246\u001b[0m \u001b[32m━━━━━━━━━━━━━━━━━━━━\u001b[0m\u001b[37m\u001b[0m \u001b[1m1s\u001b[0m 4ms/step - accuracy: 0.9864 - loss: 0.0512 - val_accuracy: 0.9949 - val_loss: 0.0250\n",
      "Epoch 7/50\n",
      "\u001b[1m246/246\u001b[0m \u001b[32m━━━━━━━━━━━━━━━━━━━━\u001b[0m\u001b[37m\u001b[0m \u001b[1m1s\u001b[0m 3ms/step - accuracy: 0.9914 - loss: 0.0434 - val_accuracy: 0.9949 - val_loss: 0.0284\n",
      "Epoch 8/50\n",
      "\u001b[1m246/246\u001b[0m \u001b[32m━━━━━━━━━━━━━━━━━━━━\u001b[0m\u001b[37m\u001b[0m \u001b[1m1s\u001b[0m 3ms/step - accuracy: 0.9904 - loss: 0.0445 - val_accuracy: 0.9949 - val_loss: 0.0259\n",
      "Epoch 9/50\n",
      "\u001b[1m246/246\u001b[0m \u001b[32m━━━━━━━━━━━━━━━━━━━━\u001b[0m\u001b[37m\u001b[0m \u001b[1m2s\u001b[0m 6ms/step - accuracy: 0.9916 - loss: 0.0457 - val_accuracy: 0.9949 - val_loss: 0.0283\n",
      "Epoch 10/50\n",
      "\u001b[1m246/246\u001b[0m \u001b[32m━━━━━━━━━━━━━━━━━━━━\u001b[0m\u001b[37m\u001b[0m \u001b[1m1s\u001b[0m 4ms/step - accuracy: 0.9948 - loss: 0.0286 - val_accuracy: 0.9949 - val_loss: 0.0248\n",
      "Epoch 11/50\n",
      "\u001b[1m246/246\u001b[0m \u001b[32m━━━━━━━━━━━━━━━━━━━━\u001b[0m\u001b[37m\u001b[0m \u001b[1m1s\u001b[0m 3ms/step - accuracy: 0.9927 - loss: 0.0303 - val_accuracy: 0.9949 - val_loss: 0.0259\n",
      "Epoch 12/50\n",
      "\u001b[1m246/246\u001b[0m \u001b[32m━━━━━━━━━━━━━━━━━━━━\u001b[0m\u001b[37m\u001b[0m \u001b[1m1s\u001b[0m 4ms/step - accuracy: 0.9916 - loss: 0.0365 - val_accuracy: 0.9949 - val_loss: 0.0232\n",
      "Epoch 13/50\n",
      "\u001b[1m246/246\u001b[0m \u001b[32m━━━━━━━━━━━━━━━━━━━━\u001b[0m\u001b[37m\u001b[0m \u001b[1m1s\u001b[0m 5ms/step - accuracy: 0.9928 - loss: 0.0319 - val_accuracy: 0.9949 - val_loss: 0.0277\n",
      "Epoch 14/50\n",
      "\u001b[1m246/246\u001b[0m \u001b[32m━━━━━━━━━━━━━━━━━━━━\u001b[0m\u001b[37m\u001b[0m \u001b[1m1s\u001b[0m 5ms/step - accuracy: 0.9941 - loss: 0.0301 - val_accuracy: 0.9949 - val_loss: 0.0228\n",
      "Epoch 15/50\n",
      "\u001b[1m246/246\u001b[0m \u001b[32m━━━━━━━━━━━━━━━━━━━━\u001b[0m\u001b[37m\u001b[0m \u001b[1m1s\u001b[0m 3ms/step - accuracy: 0.9920 - loss: 0.0375 - val_accuracy: 0.9949 - val_loss: 0.0237\n",
      "Epoch 16/50\n",
      "\u001b[1m246/246\u001b[0m \u001b[32m━━━━━━━━━━━━━━━━━━━━\u001b[0m\u001b[37m\u001b[0m \u001b[1m1s\u001b[0m 4ms/step - accuracy: 0.9942 - loss: 0.0286 - val_accuracy: 0.9949 - val_loss: 0.0211\n",
      "Epoch 17/50\n",
      "\u001b[1m246/246\u001b[0m \u001b[32m━━━━━━━━━━━━━━━━━━━━\u001b[0m\u001b[37m\u001b[0m \u001b[1m1s\u001b[0m 4ms/step - accuracy: 0.9931 - loss: 0.0278 - val_accuracy: 0.9949 - val_loss: 0.0253\n",
      "Epoch 18/50\n",
      "\u001b[1m246/246\u001b[0m \u001b[32m━━━━━━━━━━━━━━━━━━━━\u001b[0m\u001b[37m\u001b[0m \u001b[1m1s\u001b[0m 4ms/step - accuracy: 0.9906 - loss: 0.0374 - val_accuracy: 0.9949 - val_loss: 0.0208\n",
      "Epoch 19/50\n",
      "\u001b[1m246/246\u001b[0m \u001b[32m━━━━━━━━━━━━━━━━━━━━\u001b[0m\u001b[37m\u001b[0m \u001b[1m1s\u001b[0m 3ms/step - accuracy: 0.9941 - loss: 0.0236 - val_accuracy: 0.9949 - val_loss: 0.0232\n",
      "Epoch 20/50\n",
      "\u001b[1m246/246\u001b[0m \u001b[32m━━━━━━━━━━━━━━━━━━━━\u001b[0m\u001b[37m\u001b[0m \u001b[1m1s\u001b[0m 4ms/step - accuracy: 0.9936 - loss: 0.0321 - val_accuracy: 0.9949 - val_loss: 0.0246\n",
      "Epoch 21/50\n",
      "\u001b[1m246/246\u001b[0m \u001b[32m━━━━━━━━━━━━━━━━━━━━\u001b[0m\u001b[37m\u001b[0m \u001b[1m2s\u001b[0m 6ms/step - accuracy: 0.9936 - loss: 0.0295 - val_accuracy: 0.9949 - val_loss: 0.0256\n",
      "Epoch 22/50\n",
      "\u001b[1m246/246\u001b[0m \u001b[32m━━━━━━━━━━━━━━━━━━━━\u001b[0m\u001b[37m\u001b[0m \u001b[1m4s\u001b[0m 10ms/step - accuracy: 0.9962 - loss: 0.0215 - val_accuracy: 0.9949 - val_loss: 0.0242\n",
      "Epoch 23/50\n",
      "\u001b[1m246/246\u001b[0m \u001b[32m━━━━━━━━━━━━━━━━━━━━\u001b[0m\u001b[37m\u001b[0m \u001b[1m1s\u001b[0m 3ms/step - accuracy: 0.9948 - loss: 0.0213 - val_accuracy: 0.9949 - val_loss: 0.0215\n",
      "Epoch 24/50\n",
      "\u001b[1m246/246\u001b[0m \u001b[32m━━━━━━━━━━━━━━━━━━━━\u001b[0m\u001b[37m\u001b[0m \u001b[1m2s\u001b[0m 6ms/step - accuracy: 0.9952 - loss: 0.0239 - val_accuracy: 0.9949 - val_loss: 0.0331\n",
      "Epoch 25/50\n",
      "\u001b[1m246/246\u001b[0m \u001b[32m━━━━━━━━━━━━━━━━━━━━\u001b[0m\u001b[37m\u001b[0m \u001b[1m1s\u001b[0m 5ms/step - accuracy: 0.9922 - loss: 0.0265 - val_accuracy: 0.9949 - val_loss: 0.0259\n",
      "Epoch 26/50\n",
      "\u001b[1m246/246\u001b[0m \u001b[32m━━━━━━━━━━━━━━━━━━━━\u001b[0m\u001b[37m\u001b[0m \u001b[1m2s\u001b[0m 7ms/step - accuracy: 0.9948 - loss: 0.0302 - val_accuracy: 0.9949 - val_loss: 0.0206\n",
      "Epoch 27/50\n",
      "\u001b[1m246/246\u001b[0m \u001b[32m━━━━━━━━━━━━━━━━━━━━\u001b[0m\u001b[37m\u001b[0m \u001b[1m2s\u001b[0m 5ms/step - accuracy: 0.9930 - loss: 0.0282 - val_accuracy: 0.9949 - val_loss: 0.0233\n",
      "Epoch 28/50\n",
      "\u001b[1m246/246\u001b[0m \u001b[32m━━━━━━━━━━━━━━━━━━━━\u001b[0m\u001b[37m\u001b[0m \u001b[1m2s\u001b[0m 10ms/step - accuracy: 0.9960 - loss: 0.0201 - val_accuracy: 0.9949 - val_loss: 0.0207\n",
      "Epoch 29/50\n",
      "\u001b[1m246/246\u001b[0m \u001b[32m━━━━━━━━━━━━━━━━━━━━\u001b[0m\u001b[37m\u001b[0m \u001b[1m2s\u001b[0m 9ms/step - accuracy: 0.9947 - loss: 0.0254 - val_accuracy: 0.9949 - val_loss: 0.0218\n",
      "Epoch 30/50\n",
      "\u001b[1m246/246\u001b[0m \u001b[32m━━━━━━━━━━━━━━━━━━━━\u001b[0m\u001b[37m\u001b[0m \u001b[1m2s\u001b[0m 6ms/step - accuracy: 0.9921 - loss: 0.0321 - val_accuracy: 0.9949 - val_loss: 0.0223\n",
      "Epoch 31/50\n",
      "\u001b[1m246/246\u001b[0m \u001b[32m━━━━━━━━━━━━━━━━━━━━\u001b[0m\u001b[37m\u001b[0m \u001b[1m2s\u001b[0m 7ms/step - accuracy: 0.9942 - loss: 0.0235 - val_accuracy: 0.9949 - val_loss: 0.0210\n",
      "Epoch 32/50\n",
      "\u001b[1m246/246\u001b[0m \u001b[32m━━━━━━━━━━━━━━━━━━━━\u001b[0m\u001b[37m\u001b[0m \u001b[1m1s\u001b[0m 3ms/step - accuracy: 0.9920 - loss: 0.0269 - val_accuracy: 0.9949 - val_loss: 0.0226\n",
      "Epoch 33/50\n",
      "\u001b[1m246/246\u001b[0m \u001b[32m━━━━━━━━━━━━━━━━━━━━\u001b[0m\u001b[37m\u001b[0m \u001b[1m1s\u001b[0m 5ms/step - accuracy: 0.9955 - loss: 0.0217 - val_accuracy: 0.9949 - val_loss: 0.0218\n",
      "Epoch 34/50\n",
      "\u001b[1m246/246\u001b[0m \u001b[32m━━━━━━━━━━━━━━━━━━━━\u001b[0m\u001b[37m\u001b[0m \u001b[1m2s\u001b[0m 7ms/step - accuracy: 0.9949 - loss: 0.0201 - val_accuracy: 0.9949 - val_loss: 0.0226\n",
      "Epoch 35/50\n",
      "\u001b[1m246/246\u001b[0m \u001b[32m━━━━━━━━━━━━━━━━━━━━\u001b[0m\u001b[37m\u001b[0m \u001b[1m2s\u001b[0m 9ms/step - accuracy: 0.9953 - loss: 0.0181 - val_accuracy: 0.9949 - val_loss: 0.0238\n",
      "Epoch 36/50\n",
      "\u001b[1m246/246\u001b[0m \u001b[32m━━━━━━━━━━━━━━━━━━━━\u001b[0m\u001b[37m\u001b[0m \u001b[1m1s\u001b[0m 6ms/step - accuracy: 0.9947 - loss: 0.0214 - val_accuracy: 0.9949 - val_loss: 0.0208\n",
      "Epoch 37/50\n",
      "\u001b[1m246/246\u001b[0m \u001b[32m━━━━━━━━━━━━━━━━━━━━\u001b[0m\u001b[37m\u001b[0m \u001b[1m2s\u001b[0m 5ms/step - accuracy: 0.9922 - loss: 0.0314 - val_accuracy: 0.9949 - val_loss: 0.0212\n",
      "Epoch 38/50\n",
      "\u001b[1m246/246\u001b[0m \u001b[32m━━━━━━━━━━━━━━━━━━━━\u001b[0m\u001b[37m\u001b[0m \u001b[1m1s\u001b[0m 4ms/step - accuracy: 0.9975 - loss: 0.0151 - val_accuracy: 0.9949 - val_loss: 0.0232\n",
      "Epoch 39/50\n",
      "\u001b[1m246/246\u001b[0m \u001b[32m━━━━━━━━━━━━━━━━━━━━\u001b[0m\u001b[37m\u001b[0m \u001b[1m1s\u001b[0m 5ms/step - accuracy: 0.9934 - loss: 0.0284 - val_accuracy: 0.9949 - val_loss: 0.0226\n",
      "Epoch 40/50\n",
      "\u001b[1m246/246\u001b[0m \u001b[32m━━━━━━━━━━━━━━━━━━━━\u001b[0m\u001b[37m\u001b[0m \u001b[1m1s\u001b[0m 3ms/step - accuracy: 0.9961 - loss: 0.0189 - val_accuracy: 0.9949 - val_loss: 0.0213\n",
      "Epoch 41/50\n",
      "\u001b[1m246/246\u001b[0m \u001b[32m━━━━━━━━━━━━━━━━━━━━\u001b[0m\u001b[37m\u001b[0m \u001b[1m1s\u001b[0m 4ms/step - accuracy: 0.9958 - loss: 0.0205 - val_accuracy: 0.9949 - val_loss: 0.0226\n",
      "Epoch 42/50\n",
      "\u001b[1m246/246\u001b[0m \u001b[32m━━━━━━━━━━━━━━━━━━━━\u001b[0m\u001b[37m\u001b[0m \u001b[1m1s\u001b[0m 5ms/step - accuracy: 0.9941 - loss: 0.0256 - val_accuracy: 0.9949 - val_loss: 0.0204\n",
      "Epoch 43/50\n",
      "\u001b[1m246/246\u001b[0m \u001b[32m━━━━━━━━━━━━━━━━━━━━\u001b[0m\u001b[37m\u001b[0m \u001b[1m1s\u001b[0m 3ms/step - accuracy: 0.9958 - loss: 0.0192 - val_accuracy: 0.9949 - val_loss: 0.0205\n",
      "Epoch 44/50\n",
      "\u001b[1m246/246\u001b[0m \u001b[32m━━━━━━━━━━━━━━━━━━━━\u001b[0m\u001b[37m\u001b[0m \u001b[1m1s\u001b[0m 3ms/step - accuracy: 0.9932 - loss: 0.0289 - val_accuracy: 0.9949 - val_loss: 0.0210\n",
      "Epoch 45/50\n",
      "\u001b[1m246/246\u001b[0m \u001b[32m━━━━━━━━━━━━━━━━━━━━\u001b[0m\u001b[37m\u001b[0m \u001b[1m1s\u001b[0m 6ms/step - accuracy: 0.9955 - loss: 0.0198 - val_accuracy: 0.9949 - val_loss: 0.0210\n",
      "Epoch 46/50\n",
      "\u001b[1m246/246\u001b[0m \u001b[32m━━━━━━━━━━━━━━━━━━━━\u001b[0m\u001b[37m\u001b[0m \u001b[1m1s\u001b[0m 4ms/step - accuracy: 0.9961 - loss: 0.0164 - val_accuracy: 0.9949 - val_loss: 0.0201\n",
      "Epoch 47/50\n",
      "\u001b[1m246/246\u001b[0m \u001b[32m━━━━━━━━━━━━━━━━━━━━\u001b[0m\u001b[37m\u001b[0m \u001b[1m1s\u001b[0m 5ms/step - accuracy: 0.9958 - loss: 0.0173 - val_accuracy: 0.9949 - val_loss: 0.0217\n",
      "Epoch 48/50\n",
      "\u001b[1m246/246\u001b[0m \u001b[32m━━━━━━━━━━━━━━━━━━━━\u001b[0m\u001b[37m\u001b[0m \u001b[1m1s\u001b[0m 4ms/step - accuracy: 0.9931 - loss: 0.0303 - val_accuracy: 0.9949 - val_loss: 0.0205\n",
      "Epoch 49/50\n",
      "\u001b[1m246/246\u001b[0m \u001b[32m━━━━━━━━━━━━━━━━━━━━\u001b[0m\u001b[37m\u001b[0m \u001b[1m1s\u001b[0m 4ms/step - accuracy: 0.9945 - loss: 0.0224 - val_accuracy: 0.9949 - val_loss: 0.0209\n",
      "Epoch 50/50\n",
      "\u001b[1m246/246\u001b[0m \u001b[32m━━━━━━━━━━━━━━━━━━━━\u001b[0m\u001b[37m\u001b[0m \u001b[1m1s\u001b[0m 4ms/step - accuracy: 0.9953 - loss: 0.0195 - val_accuracy: 0.9949 - val_loss: 0.0214\n"
     ]
    }
   ],
   "source": [
    "# Train the model\n",
    "try:\n",
    "    history = model.fit(X_train, y_train, validation_data=(X_test, y_test), epochs=50, batch_size=16)\n",
    "except Exception as e:\n",
    "    print(\"Error during model training:\", e)\n",
    "    raise e"
   ]
  },
  {
   "cell_type": "code",
   "execution_count": null,
   "id": "ea243c50-3573-489a-8401-13d654e1b5f6",
   "metadata": {},
   "outputs": [],
   "source": [
    "def predict_disease(symptom_input):\n",
    "    # Clean and check input symptoms\n",
    "    recognized_symptoms = [symptom.strip().lower() for symptom in symptom_input if symptom.strip().lower() in symptom_list]\n",
    "    if not recognized_symptoms:\n",
    "        return \"No recognized symptoms provided. Please check the symptoms and try again.\", None\n",
    "    \n",
    "    try:\n",
    "        symptoms_array = mlb.transform([recognized_symptoms])\n",
    "        disease_prediction = model.predict(symptoms_array)\n",
    "        disease_index = np.argmax(disease_prediction)\n",
    "        disease_name = label_encoder.inverse_transform([disease_index])[0]\n",
    "        \n",
    "        # Find specialist\n",
    "        specialist = doctor_df[doctor_df['Disease'] == disease_name]['Specialty'].values[0]\n",
    "        return disease_name, specialist\n",
    "    except KeyError as e:\n",
    "        print(\"KeyError encountered during prediction:\", e)\n",
    "        print(\"Symptom input:\", symptom_input)\n",
    "        print(\"Recognized symptoms after filtering:\", recognized_symptoms)\n",
    "        raise e\n",
    "        "
   ]
  },
  {
   "cell_type": "code",
   "execution_count": null,
   "id": "065438d9-95d9-4717-a30a-8bc4dc37ef70",
   "metadata": {},
   "outputs": [
    {
     "name": "stdout",
     "output_type": "stream",
     "text": [
      "\u001b[1m1/1\u001b[0m \u001b[32m━━━━━━━━━━━━━━━━━━━━\u001b[0m\u001b[37m\u001b[0m \u001b[1m0s\u001b[0m 122ms/step\n"
     ]
    },
    {
     "ename": "IndexError",
     "evalue": "index 0 is out of bounds for axis 0 with size 0",
     "output_type": "error",
     "traceback": [
      "\u001b[1;31m---------------------------------------------------------------------------\u001b[0m",
      "\u001b[1;31mIndexError\u001b[0m                                Traceback (most recent call last)",
      "Cell \u001b[1;32mIn[19], line 2\u001b[0m\n\u001b[0;32m      1\u001b[0m user_symptoms \u001b[38;5;241m=\u001b[39m [\u001b[38;5;124m'\u001b[39m\u001b[38;5;124mfatigue\u001b[39m\u001b[38;5;124m'\u001b[39m, \u001b[38;5;124m'\u001b[39m\u001b[38;5;124mweight_loss\u001b[39m\u001b[38;5;124m'\u001b[39m]  \u001b[38;5;66;03m# replace with user input symptoms\u001b[39;00m\n\u001b[1;32m----> 2\u001b[0m disease, specialist \u001b[38;5;241m=\u001b[39m predict_disease(user_symptoms)\n\u001b[0;32m      4\u001b[0m \u001b[38;5;28;01mif\u001b[39;00m specialist:\n\u001b[0;32m      5\u001b[0m     \u001b[38;5;28mprint\u001b[39m(\u001b[38;5;124mf\u001b[39m\u001b[38;5;124m\"\u001b[39m\u001b[38;5;124mPredicted Disease: \u001b[39m\u001b[38;5;132;01m{\u001b[39;00mdisease\u001b[38;5;132;01m}\u001b[39;00m\u001b[38;5;124m\"\u001b[39m)\n",
      "Cell \u001b[1;32mIn[17], line 14\u001b[0m, in \u001b[0;36mpredict_disease\u001b[1;34m(symptom_input)\u001b[0m\n\u001b[0;32m     11\u001b[0m     disease_name \u001b[38;5;241m=\u001b[39m label_encoder\u001b[38;5;241m.\u001b[39minverse_transform([disease_index])[\u001b[38;5;241m0\u001b[39m]\n\u001b[0;32m     13\u001b[0m     \u001b[38;5;66;03m# Find specialist\u001b[39;00m\n\u001b[1;32m---> 14\u001b[0m     specialist \u001b[38;5;241m=\u001b[39m doctor_df[doctor_df[\u001b[38;5;124m'\u001b[39m\u001b[38;5;124mDisease\u001b[39m\u001b[38;5;124m'\u001b[39m] \u001b[38;5;241m==\u001b[39m disease_name][\u001b[38;5;124m'\u001b[39m\u001b[38;5;124mSpecialty\u001b[39m\u001b[38;5;124m'\u001b[39m]\u001b[38;5;241m.\u001b[39mvalues[\u001b[38;5;241m0\u001b[39m]\n\u001b[0;32m     15\u001b[0m     \u001b[38;5;28;01mreturn\u001b[39;00m disease_name, specialist\n\u001b[0;32m     16\u001b[0m \u001b[38;5;28;01mexcept\u001b[39;00m \u001b[38;5;167;01mKeyError\u001b[39;00m \u001b[38;5;28;01mas\u001b[39;00m e:\n",
      "\u001b[1;31mIndexError\u001b[0m: index 0 is out of bounds for axis 0 with size 0"
     ]
    }
   ],
   "source": [
    "user_symptoms = ['fatigue', 'weight_loss']  # replace with user input symptoms\n",
    "disease, specialist = predict_disease(user_symptoms)\n",
    "\n",
    "if specialist:\n",
    "    print(f\"Predicted Disease: {disease}\")\n",
    "    print(f\"Recommended Specialist: {specialist}\")\n",
    "else:\n",
    "    print(disease)"
   ]
  },
  {
   "cell_type": "code",
   "execution_count": null,
   "id": "3f99f249-8816-4cda-aaa4-b96b0b4ee7e3",
   "metadata": {},
   "outputs": [
    {
     "name": "stdout",
     "output_type": "stream",
     "text": [
      "\u001b[1m1/1\u001b[0m \u001b[32m━━━━━━━━━━━━━━━━━━━━\u001b[0m\u001b[37m\u001b[0m \u001b[1m0s\u001b[0m 303ms/step\n",
      "Predicted Disease: Diabetes \n",
      "Recommended Specialist: No specialist found for this disease.\n"
     ]
    }
   ],
   "source": [
    "def predict_disease(symptom_input):\n",
    "    # Clean and check input symptoms\n",
    "    recognized_symptoms = [symptom.strip().lower() for symptom in symptom_input if symptom.strip().lower() in symptom_list]\n",
    "    if not recognized_symptoms:\n",
    "        return \"No recognized symptoms provided. Please check the symptoms and try again.\", None\n",
    "    \n",
    "    try:\n",
    "        symptoms_array = mlb.transform([recognized_symptoms])\n",
    "        disease_prediction = model.predict(symptoms_array)\n",
    "        disease_index = np.argmax(disease_prediction)\n",
    "        disease_name = label_encoder.inverse_transform([disease_index])[0]\n",
    "        \n",
    "        # Check if disease exists in doctor_df\n",
    "        if disease_name in doctor_df['Disease'].values:\n",
    "            # Find specialist\n",
    "            specialist = doctor_df[doctor_df['Disease'] == disease_name]['Specialty'].values[0]\n",
    "            return disease_name, specialist\n",
    "        else:\n",
    "            return disease_name, \"No specialist found for this disease.\"\n",
    "    \n",
    "    except KeyError as e:\n",
    "        print(\"KeyError encountered during prediction:\", e)\n",
    "        print(\"Symptom input:\", symptom_input)\n",
    "        print(\"Recognized symptoms after filtering:\", recognized_symptoms)\n",
    "        return \"Error during prediction. Please check the input symptoms and try again.\", None\n",
    "    except IndexError as e:\n",
    "        print(\"IndexError encountered:\", e)\n",
    "        print(\"Disease name:\", disease_name)\n",
    "        return \"Error: Specialist information is unavailable for this disease.\", None\n",
    "    except Exception as e:\n",
    "        print(\"Unexpected error:\", e)\n",
    "        return \"An unexpected error occurred. Please try again.\", None\n",
    "\n",
    "# Sample user input\n",
    "user_symptoms = ['lethargy','lethargy','weight_loss']  # Replace with user input symptoms\n",
    "disease, specialist = predict_disease(user_symptoms)\n",
    "\n",
    "if specialist:\n",
    "    print(f\"Predicted Disease: {disease}\")\n",
    "    print(f\"Recommended Specialist: {specialist}\")\n",
    "else:\n",
    "    print(disease)\n"
   ]
  },
  {
   "cell_type": "code",
   "execution_count": null,
   "id": "e52eed91-ae79-4d80-a4df-8f3267a6fa70",
   "metadata": {},
   "outputs": [],
   "source": []
  }
 ],
 "metadata": {
  "kernelspec": {
   "display_name": "Python 3",
   "language": "python",
   "name": "python3"
  },
  "language_info": {
   "codemirror_mode": {
    "name": "ipython",
    "version": 3
   },
   "file_extension": ".py",
   "mimetype": "text/x-python",
   "name": "python",
   "nbconvert_exporter": "python",
   "pygments_lexer": "ipython3",
   "version": "3.9.11"
  }
 },
 "nbformat": 4,
 "nbformat_minor": 5
}
